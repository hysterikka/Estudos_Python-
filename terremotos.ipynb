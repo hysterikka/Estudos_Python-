{
 "cells": [
  {
   "cell_type": "markdown",
   "metadata": {},
   "source": [
    "#bibliotecas"
   ]
  },
  {
   "cell_type": "code",
   "execution_count": null,
   "metadata": {},
   "outputs": [],
   "source": [
    "import numpy as numpy\n",
    "import seaborn as sns\n",
    "import pandas as pd\n",
    "import matplotlib as plt\n",
    "import urllib3.request\n",
    "import requests"
   ]
  },
  {
   "cell_type": "markdown",
   "metadata": {},
   "source": [
    "// importar arquivo csv"
   ]
  },
  {
   "cell_type": "code",
   "execution_count": null,
   "metadata": {},
   "outputs": [],
   "source": [
    "url =(\"https://www.kaggle.com/datasets/mustafakeser4/earthquakes-2023-global/data?select=earthquakes_2023_global.csv\")\n",
    "response=requests.get(\"https://www.kaggle.com/datasets/mustafakeser4/earthquakes-2023-global/data?select=earthquakes_2023_global.csv\")\n",
    "\n"
   ]
  },
  {
   "cell_type": "markdown",
   "metadata": {},
   "source": [
    "checagem de download!!!"
   ]
  },
  {
   "cell_type": "code",
   "execution_count": null,
   "metadata": {},
   "outputs": [],
   "source": [
    "if response.status_code == 200:\n",
    "    with open (\"downloaded_data.csv\",\"wb\") as f:\n",
    "        f.write(response.content)\n",
    "        print (\"Download concluído\")\n",
    "else:\n",
    "    print (\"Falha no download\")\n",
    "    #conversao para data frame\n",
    "    df=pd.read_csv(\"terremotos.csv\")"
   ]
  },
  {
   "cell_type": "markdown",
   "metadata": {},
   "source": [
    "dataframe"
   ]
  },
  {
   "cell_type": "code",
   "execution_count": null,
   "metadata": {},
   "outputs": [],
   "source": [
    "#primeiras cinco colunas\n",
    "print (\"cabecalhos\")\n",
    "print(df.head())\n",
    "#resumo estatístico do banco de dados\n",
    "print(\"descricao\")\n",
    "print(df.describe())\n",
    "#resumo conciso do banco de dados\n",
    "print(\"dados\")\n",
    "print(df.info())"
   ]
  }
 ],
 "metadata": {
  "kernelspec": {
   "display_name": "Python 3",
   "language": "python",
   "name": "python3"
  },
  "language_info": {
   "codemirror_mode": {
    "name": "ipython",
    "version": 3
   },
   "file_extension": ".py",
   "mimetype": "text/x-python",
   "name": "python",
   "nbconvert_exporter": "python",
   "pygments_lexer": "ipython3",
   "version": "3.11.1"
  }
 },
 "nbformat": 4,
 "nbformat_minor": 2
}
